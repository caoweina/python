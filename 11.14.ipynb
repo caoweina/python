{
 "cells": [
  {
   "cell_type": "code",
   "execution_count": null,
   "metadata": {},
   "outputs": [],
   "source": [
    "class Calculator:\n",
    "    def caculator(self,expression):\n",
    "        return eval(expression)\n",
    "    \n",
    "class Talker:\n",
    "    def talk(self,value):\n",
    "        print(\"My value is:\",value)\n",
    "        \n",
    "class TalkingCalculator(Calculator):\n",
    "    def __init__(self):\n",
    "        self.__talker=Talker()\n",
    "       \n",
    "    def talk(self):\n",
    "        self.__talker.talk(self.__value)\n",
    "        \n",
    "    def calculate(self,expression):\n",
    "          value=Calculator.calculate(self,expression)\n",
    "            self.__talker.talk(value)\n",
    "        \n",
    "tc=TalkingCalculator()\n",
    "tc.calculate('1+2*3')\n",
    "tc.talk()"
   ]
  },
  {
   "cell_type": "code",
   "execution_count": null,
   "metadata": {},
   "outputs": [],
   "source": [
    "class Screwdriver:\n",
    "    def screw(self):\n",
    "        print('screwing...')\n",
    "        \n",
    "class Knife:\n",
    "    def cut(self):\n",
    "        print('cutting...')\n",
    "        \n",
    "class SwissKnife(Screwdriver,Knife):\n",
    "    pass\n",
    "\n",
    "sk=SwissKnife()\n",
    "sk.screw()\n",
    "sk.cut()"
   ]
  },
  {
   "cell_type": "code",
   "execution_count": null,
   "metadata": {},
   "outputs": [],
   "source": [
    "class Screwdriver:\n",
    "    def __init__(self,size):\n",
    "        self.size=size\n",
    "        \n",
    "    def screw(self):\n",
    "        print('screwing with a screwdriver of size {}...'.format(self.size))\n",
    "        \n",
    "class Knife:\n",
    "    def cut(self):\n",
    "        print('cutting...')\n",
    "        \n",
    "class SwissKnife(Screwdriver,Knife):\n",
    "    def __init__(self,screwdriver_size):\n",
    "        Screwdriver.__init__(self,screwdriver_size)\n",
    "        Knife.__init__(self)\n",
    "    pass\n",
    "\n",
    "sk=SwissKnife(4)\n",
    "sk.screw()\n",
    "sk.cut()"
   ]
  },
  {
   "cell_type": "code",
   "execution_count": null,
   "metadata": {},
   "outputs": [],
   "source": [
    "class Screwdriver:\n",
    "    def __init__(self,size):\n",
    "        self.size=size\n",
    "        \n",
    "    def screw(self):\n",
    "        print('screwing with a screwdriver of size {}...'.format(self.size))\n",
    "        \n",
    "class Knife:\n",
    "    def cut(self):\n",
    "        print('cutting...')\n",
    "        \n",
    "class SwissKnife:\n",
    "    def __init__(self):\n",
    "        self.tools={}\n",
    "        \n",
    "    def add_tool(self,name,tool):\n",
    "        self.tools[name]=tool\n",
    "        \n",
    "    def use_tool(self,name):\n",
    "        pass\n",
    "\n",
    "sk=SwissKnife()\n",
    "sk.add_tool('Knife',Knife())\n",
    "sk.add_tool('Big screwdriver',Screwdriver(10))\n",
    "sk.add_tool('Small screwdriver ',Screwdriver(2))\n",
    "\n",
    "sk.use_tool('Big screwdriver')\n",
    "sk.use_tool('Small screwdriver ')\n",
    "sk.use_tool('Knife')"
   ]
  },
  {
   "cell_type": "code",
   "execution_count": null,
   "metadata": {},
   "outputs": [],
   "source": [
    "knife=Knife()\n",
    "hasattr(knife,'work')"
   ]
  },
  {
   "cell_type": "code",
   "execution_count": null,
   "metadata": {},
   "outputs": [],
   "source": [
    "hasattr(knife,'cut')"
   ]
  },
  {
   "cell_type": "code",
   "execution_count": null,
   "metadata": {},
   "outputs": [],
   "source": [
    "callable(getattr(knife,'cut'))"
   ]
  },
  {
   "cell_type": "code",
   "execution_count": null,
   "metadata": {},
   "outputs": [],
   "source": [
    "callable(getattr(knife,'work',None))"
   ]
  },
  {
   "cell_type": "code",
   "execution_count": null,
   "metadata": {},
   "outputs": [],
   "source": [
    "from abc import ABC,abstractmethod\n",
    "\n",
    "class Tool(ABC):\n",
    "    @abstractmethod\n",
    "    def work(self):\n",
    "        pass"
   ]
  },
  {
   "cell_type": "code",
   "execution_count": null,
   "metadata": {},
   "outputs": [],
   "source": [
    "class Screwdriver(Tool):\n",
    "    def __init__(self,size):\n",
    "        self.size=size\n",
    "        \n",
    "    def work(self):\n",
    "        print('screwing with a screwdriver of size {}...'.format(self.size))\n",
    "        \n",
    "class Knife(Tool):\n",
    "    def work(self):\n",
    "        print('cutting...')\n",
    "        \n",
    "class SwissKnife:\n",
    "    def __init__(self):\n",
    "        self.tools={}\n",
    "        \n",
    "    def add_tool(self,name,tool):\n",
    "        self.tools[name]=tool\n",
    "        \n",
    "    def use_tool(self,name):\n",
    "        tool=self.tools.get(name)\n",
    "        tool.work()\n",
    "\n",
    "sk=SwissKnife()\n",
    "sk.add_tool('Knife',Knife())\n",
    "sk.add_tool('Big screwdriver',Screwdriver(10))\n",
    "sk.add_tool('Small screwdriver ',Screwdriver(2))\n",
    "\n",
    "sk.use_tool('Big screwdriver')\n",
    "sk.use_tool('Small screwdriver ')\n",
    "sk.use_tool('Knife')"
   ]
  },
  {
   "cell_type": "code",
   "execution_count": null,
   "metadata": {},
   "outputs": [],
   "source": [
    "#蚂蚁\n",
    "from time import sleep\n",
    "import random\n",
    "\n",
    "class Bar:\n",
    "    __empty='-'\n",
    "    def __init__(self,length=80):\n",
    "        self.bar=list()\n",
    "        for i in range(0,length):\n",
    "            self.bar.append(Bar.__empty)\n",
    "            \n",
    "    def reset(self):\n",
    "        for i in range(len(self.bar)):\n",
    "            self.bar[i]=Bar.__empty\n",
    "            \n",
    "    def update(self,ants):\n",
    "        self.reset()\n",
    "        for ant in ants:\n",
    "            if 0<=ant.position<len(self.bar):\n",
    "                self.bar[ant.position]=ant.symbol\n",
    "                \n",
    "    def is_empty(self):\n",
    "        for item in self.bar:\n",
    "            if not item==Bar.__empty:\n",
    "                return False\n",
    "        else:\n",
    "            return True\n",
    "    \n",
    "    def show(self):\n",
    "        for ch in self.bar:\n",
    "            print(ch,sep=' ',end=' ')\n",
    "        print('',end='\\r')\n",
    "        \n",
    "class Ant:\n",
    "    symbols='ABCDEFGHIJKLMNOPQRSTUVWXYZ'\n",
    "    count=0\n",
    "    def __init__(self,position,direction,symbol=None):\n",
    "        self.position=position\n",
    "        self.direction=direction\n",
    "        if symbol is None:\n",
    "            self.symbol=Ant.symbols[Ant.count]\n",
    "            count+=1\n",
    "        else:\n",
    "            self.symbol=symbol\n",
    "            \n",
    "    def move(self):\n",
    "        self.position+=self.direction\n",
    "        \n",
    "    def create_random_ant(length=80):\n",
    "        position=random.randint(0,length-1)#randint产生随机数，闭区间\n",
    "        direction=random.choice([1,-1])\n",
    "        return Ant(position,direction)\n",
    "    \n",
    "            \n",
    "    def get_ants(self):\n",
    "        return self.ants\n",
    "            \n",
    "            \n",
    "bar=Bar(80)\n",
    "ants=Ants(5)\n",
    "\n",
    "bar.update(ants.get_ants())\n",
    "bar.show()\n",
    "\n",
    "while not bar.is_empty():\n",
    "    sleep(0.25)\n",
    "    ants.move()\n",
    "    bar.update(ants.get_ants())\n",
    "    bar.show()\n",
    "        \n",
    "        "
   ]
  },
  {
   "cell_type": "code",
   "execution_count": null,
   "metadata": {},
   "outputs": [],
   "source": [
    "raise Exception"
   ]
  },
  {
   "cell_type": "code",
   "execution_count": null,
   "metadata": {},
   "outputs": [],
   "source": [
    "raise Exception('System fault.')"
   ]
  },
  {
   "cell_type": "code",
   "execution_count": null,
   "metadata": {},
   "outputs": [],
   "source": [
    "class MyException(Exception):pass\n",
    "\n",
    "raise MyException()"
   ]
  },
  {
   "cell_type": "code",
   "execution_count": null,
   "metadata": {},
   "outputs": [],
   "source": [
    "try:\n",
    "    x=int(input('Please input a number: '))\n",
    "    y=int(input('Please input a number: '))\n",
    "    print('{}/{}={}'.format(x,y,x/y))\n",
    "    print('hello')\n",
    "#except ZeroDivisionError:\n",
    "#    print('The second number cannot be 0!')\n",
    "#except ValueError:\n",
    "#   print('Invalid value.')\n",
    "except(ZeroDivisionError,ValueError) as e:\n",
    "    print(e)"
   ]
  },
  {
   "cell_type": "code",
   "execution_count": null,
   "metadata": {},
   "outputs": [],
   "source": [
    "def calc(expression,no_throw=False):\n",
    "    try:\n",
    "        return eval(expression)\n",
    "    except ZeroDivisionError:\n",
    "        if no_throw:\n",
    "            print('Division by zero.')\n",
    "        else:raise ValueError from None"
   ]
  },
  {
   "cell_type": "code",
   "execution_count": null,
   "metadata": {},
   "outputs": [],
   "source": [
    "calc('10/0')"
   ]
  },
  {
   "cell_type": "code",
   "execution_count": null,
   "metadata": {},
   "outputs": [],
   "source": [
    "calc('10/0',True)"
   ]
  },
  {
   "cell_type": "code",
   "execution_count": null,
   "metadata": {},
   "outputs": [],
   "source": [
    "while True:\n",
    "    try:\n",
    "        x=int(input('Please input a number: '))\n",
    "        y=int(input('Please input a number: '))\n",
    "        print('{}/{}={}'.format(x,y,x/y))\n",
    "        print('hello')\n",
    "    except(ZeroDivisionError,ValueError) as e:\n",
    "        print(e)\n",
    "    else:break"
   ]
  },
  {
   "cell_type": "code",
   "execution_count": 2,
   "metadata": {},
   "outputs": [
    {
     "name": "stdout",
     "output_type": "stream",
     "text": [
      "Cleaning up...\n"
     ]
    },
    {
     "ename": "ZeroDivisionError",
     "evalue": "division by zero",
     "output_type": "error",
     "traceback": [
      "\u001b[1;31m---------------------------------------------------------------------------\u001b[0m",
      "\u001b[1;31mZeroDivisionError\u001b[0m                         Traceback (most recent call last)",
      "\u001b[1;32m<ipython-input-2-ec6c4b315ef7>\u001b[0m in \u001b[0;36m<module>\u001b[1;34m()\u001b[0m\n\u001b[0;32m      1\u001b[0m \u001b[0mx\u001b[0m\u001b[1;33m=\u001b[0m\u001b[1;32mNone\u001b[0m\u001b[1;33m\u001b[0m\u001b[0m\n\u001b[0;32m      2\u001b[0m \u001b[1;32mtry\u001b[0m\u001b[1;33m:\u001b[0m\u001b[1;33m\u001b[0m\u001b[0m\n\u001b[1;32m----> 3\u001b[1;33m     \u001b[0mx\u001b[0m\u001b[1;33m=\u001b[0m\u001b[1;36m1\u001b[0m\u001b[1;33m/\u001b[0m\u001b[1;36m0\u001b[0m\u001b[1;33m\u001b[0m\u001b[0m\n\u001b[0m\u001b[0;32m      4\u001b[0m \u001b[1;32mfinally\u001b[0m\u001b[1;33m:\u001b[0m\u001b[1;33m\u001b[0m\u001b[0m\n\u001b[0;32m      5\u001b[0m     \u001b[0mprint\u001b[0m\u001b[1;33m(\u001b[0m\u001b[1;34m'Cleaning up...'\u001b[0m\u001b[1;33m)\u001b[0m\u001b[1;33m\u001b[0m\u001b[0m\n",
      "\u001b[1;31mZeroDivisionError\u001b[0m: division by zero"
     ]
    }
   ],
   "source": [
    "x=None\n",
    "try:\n",
    "    x=1/0\n",
    "finally:#资源释放\n",
    "    print('Cleaning up...')\n",
    "    del x"
   ]
  },
  {
   "cell_type": "code",
   "execution_count": null,
   "metadata": {},
   "outputs": [],
   "source": [
    "def inner():\n",
    "    print('inner...')\n",
    "    raise Exception\n",
    "\n",
    "def outer():\n",
    "    print('outer...before call inner.')\n",
    "    inner()\n",
    "    print('outer...after calling inner.')\n",
    "    \n",
    "outer()"
   ]
  }
 ],
 "metadata": {
  "kernelspec": {
   "display_name": "Python 3",
   "language": "python",
   "name": "python3"
  }
 },
 "nbformat": 4,
 "nbformat_minor": 2
}
