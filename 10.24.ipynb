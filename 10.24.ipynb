{
 "cells": [
  {
   "cell_type": "code",
   "execution_count": null,
   "metadata": {},
   "outputs": [],
   "source": [
    "names=['a','b','c','d']\n",
    "ages=[10,20,30,40]\n",
    "for i in range(len(names)):\n",
    "    print(names[i],ages[i])"
   ]
  },
  {
   "cell_type": "code",
   "execution_count": null,
   "metadata": {},
   "outputs": [],
   "source": [
    "names=['a','b','c','d']\n",
    "ages=[10,20,30,40]\n",
    "for name,age in zip(names,ages):\n",
    "    print(name,age)"
   ]
  },
  {
   "cell_type": "code",
   "execution_count": null,
   "metadata": {},
   "outputs": [],
   "source": [
    "a=list(zip(names,ages))\n",
    "a"
   ]
  },
  {
   "cell_type": "code",
   "execution_count": null,
   "metadata": {},
   "outputs": [],
   "source": [
    "names=['a','b','c','d']\n",
    "for i in range(len(names)):\n",
    "    print(i+1,names[i])\n",
    "    \n",
    "i=1\n",
    "for name in names:\n",
    "    print(i,name)\n",
    "    i+=1"
   ]
  },
  {
   "cell_type": "code",
   "execution_count": null,
   "metadata": {},
   "outputs": [],
   "source": [
    "names=['a','b','c','d']\n",
    "for i,name in enumerate(names):\n",
    "    print(i,name)"
   ]
  },
  {
   "cell_type": "code",
   "execution_count": null,
   "metadata": {},
   "outputs": [],
   "source": [
    "a=list(enumerate(names))\n",
    "a"
   ]
  },
  {
   "cell_type": "code",
   "execution_count": null,
   "metadata": {},
   "outputs": [],
   "source": [
    "a=list(range(0,10))\n",
    "b=list()\n",
    "for item in a:\n",
    "    b.append(item*item)\n",
    "print(a)\n",
    "print(b)"
   ]
  },
  {
   "cell_type": "code",
   "execution_count": null,
   "metadata": {},
   "outputs": [],
   "source": [
    "b=[item*item for item in range(0,10)]\n",
    "b"
   ]
  },
  {
   "cell_type": "code",
   "execution_count": null,
   "metadata": {},
   "outputs": [],
   "source": [
    "a=[item for item in range(0,100)if item%3==0]\n",
    "print(a)"
   ]
  },
  {
   "cell_type": "code",
   "execution_count": null,
   "metadata": {},
   "outputs": [],
   "source": [
    "coordinates=[]\n",
    "for x in range(0,10):\n",
    "    for y in range(0,10):\n",
    "        coordinates.append((x,y))\n",
    "print(coordinates)"
   ]
  },
  {
   "cell_type": "code",
   "execution_count": null,
   "metadata": {},
   "outputs": [],
   "source": [
    "coordinates=[(x,y) for x in range(0,10)for y in range(0,10)]\n",
    "print(coordinates)"
   ]
  },
  {
   "cell_type": "code",
   "execution_count": null,
   "metadata": {},
   "outputs": [],
   "source": [
    "girls=['alice','bernice','clarice']\n",
    "boys=['chris','arnold','bob']\n",
    "result=[boy+'+'+girl for boy in boys for girl in girls if boy[0]==girl[0]]\n",
    "print(result)"
   ]
  },
  {
   "cell_type": "code",
   "execution_count": null,
   "metadata": {},
   "outputs": [],
   "source": [
    "squares={i:i**2 for i in range(0,10)}\n",
    "print(squares)"
   ]
  },
  {
   "cell_type": "code",
   "execution_count": null,
   "metadata": {},
   "outputs": [],
   "source": [
    "squares[5]"
   ]
  },
  {
   "cell_type": "code",
   "execution_count": null,
   "metadata": {},
   "outputs": [],
   "source": [
    "a=[1,2,3]\n",
    "b=a\n",
    "b is a"
   ]
  },
  {
   "cell_type": "code",
   "execution_count": null,
   "metadata": {},
   "outputs": [],
   "source": [
    "a=None\n",
    "b"
   ]
  },
  {
   "cell_type": "code",
   "execution_count": null,
   "metadata": {},
   "outputs": [],
   "source": [
    "x=1\n",
    "del x\n",
    "x"
   ]
  },
  {
   "cell_type": "code",
   "execution_count": null,
   "metadata": {},
   "outputs": [],
   "source": [
    "a=[1,2,3]\n",
    "b=a\n",
    "del a\n",
    "b"
   ]
  },
  {
   "cell_type": "code",
   "execution_count": null,
   "metadata": {},
   "outputs": [],
   "source": [
    "exec('print(\"hello word\")')"
   ]
  },
  {
   "cell_type": "code",
   "execution_count": null,
   "metadata": {},
   "outputs": [],
   "source": [
    "scope={}\n",
    "exec('y=1',scope)"
   ]
  },
  {
   "cell_type": "code",
   "execution_count": null,
   "metadata": {
    "scrolled": true
   },
   "outputs": [],
   "source": [
    "%whos"
   ]
  },
  {
   "cell_type": "code",
   "execution_count": null,
   "metadata": {},
   "outputs": [],
   "source": [
    "scope['y']"
   ]
  },
  {
   "cell_type": "code",
   "execution_count": null,
   "metadata": {},
   "outputs": [],
   "source": [
    "print(scope)"
   ]
  },
  {
   "cell_type": "code",
   "execution_count": null,
   "metadata": {},
   "outputs": [],
   "source": [
    "vars()"
   ]
  },
  {
   "cell_type": "code",
   "execution_count": null,
   "metadata": {},
   "outputs": [],
   "source": [
    "eval('1+2+3')"
   ]
  },
  {
   "cell_type": "code",
   "execution_count": null,
   "metadata": {},
   "outputs": [],
   "source": [
    "expr=input('please input an expression:')\n",
    "print(eval(expr))"
   ]
  },
  {
   "cell_type": "code",
   "execution_count": null,
   "metadata": {},
   "outputs": [],
   "source": [
    "def hello(name):\n",
    "    'Say to somebody whoes name is defined by name.'\n",
    "    print('Hello,'+name+'!')"
   ]
  },
  {
   "cell_type": "code",
   "execution_count": null,
   "metadata": {},
   "outputs": [],
   "source": [
    "hello('yg')"
   ]
  },
  {
   "cell_type": "code",
   "execution_count": null,
   "metadata": {},
   "outputs": [],
   "source": [
    "hello"
   ]
  },
  {
   "cell_type": "code",
   "execution_count": null,
   "metadata": {},
   "outputs": [],
   "source": [
    "hello?"
   ]
  },
  {
   "cell_type": "code",
   "execution_count": null,
   "metadata": {},
   "outputs": [],
   "source": [
    "callable(hello)"
   ]
  },
  {
   "cell_type": "code",
   "execution_count": null,
   "metadata": {},
   "outputs": [],
   "source": [
    "print(hello('yg'))"
   ]
  },
  {
   "cell_type": "code",
   "execution_count": null,
   "metadata": {},
   "outputs": [],
   "source": [
    "def print_banner(text,width):\n",
    "    symbol='#'\n",
    "    print(symbol*width)\n",
    "    print(text.center(width-2).center(width,symbol))\n",
    "    print(symbol*width)\n",
    "print_banner('hello',30)"
   ]
  },
  {
   "cell_type": "code",
   "execution_count": null,
   "metadata": {},
   "outputs": [],
   "source": [
    "fibs=[1,1]\n",
    "for i in range(0,9):\n",
    "    fibs.append(fibs[-2]+fibs[-1])#fibs(lens(fibs)-1)\n",
    "print(fibs)"
   ]
  },
  {
   "cell_type": "code",
   "execution_count": null,
   "metadata": {},
   "outputs": [],
   "source": [
    "print(fibs[5])"
   ]
  },
  {
   "cell_type": "code",
   "execution_count": null,
   "metadata": {},
   "outputs": [],
   "source": [
    "def fibs(num):\n",
    "    result=[1,1]\n",
    "    for i in range(num-2):\n",
    "        result.append(result[-2]+result[-1])\n",
    "    return result\n",
    "num=int(input('How many Fibonacci numbers do you want?'))\n",
    "print(fibs(num))"
   ]
  },
  {
   "cell_type": "code",
   "execution_count": null,
   "metadata": {},
   "outputs": [],
   "source": [
    "def fib(index):\n",
    "    result=[1,1]\n",
    "    for i in range(num-2):\n",
    "        result.append(result[-2]+result[-1])\n",
    "    return result[-1]\n",
    "num=int(input('How many steps?'))\n",
    "print('Total number of different ways:{}'.format(fib(num)))"
   ]
  },
  {
   "cell_type": "code",
   "execution_count": null,
   "metadata": {},
   "outputs": [],
   "source": [
    "def fib(index):\n",
    "    item_before_last,last_item=1,1\n",
    "    for i in range(index-2):\n",
    "        item_before_last,last_item=last_item,item_before_last+last_item\n",
    "    return last_item\n",
    "num=int(input('How many steps?'))\n",
    "print('Total number of different ways:{}'.format(fib(num+1)))"
   ]
  },
  {
   "cell_type": "code",
   "execution_count": null,
   "metadata": {},
   "outputs": [],
   "source": [
    "#setup_ants_positions()\n",
    "#while not is_bar_empty():\n",
    "    #update_bar()\n",
    "    #show_bar()\n",
    "    #wait()\n",
    "    #update_ants_positions()"
   ]
  },
  {
   "cell_type": "code",
   "execution_count": 62,
   "metadata": {},
   "outputs": [
    {
     "name": "stdout",
     "output_type": "stream",
     "text": [
      "2\n"
     ]
    }
   ],
   "source": [
    "def change_it(a):\n",
    "    a=a*2\n",
    "x=2\n",
    "change_it(x)\n",
    "print(x)"
   ]
  },
  {
   "cell_type": "code",
   "execution_count": 63,
   "metadata": {},
   "outputs": [
    {
     "name": "stdout",
     "output_type": "stream",
     "text": [
      "['hello', 'hi']\n"
     ]
    }
   ],
   "source": [
    "def change_it(a):\n",
    "    #a[0]='Hello'\n",
    "    a=['Hello','hi']\n",
    "x=['hello','hi']\n",
    "change_it(x)\n",
    "print(x)"
   ]
  },
  {
   "cell_type": "code",
   "execution_count": 64,
   "metadata": {},
   "outputs": [
    {
     "ename": "TypeError",
     "evalue": "'str' object does not support item assignment",
     "output_type": "error",
     "traceback": [
      "\u001b[1;31m---------------------------------------------------------------------------\u001b[0m",
      "\u001b[1;31mTypeError\u001b[0m                                 Traceback (most recent call last)",
      "\u001b[1;32m<ipython-input-64-e9b25dc813f7>\u001b[0m in \u001b[0;36m<module>\u001b[1;34m()\u001b[0m\n\u001b[0;32m      3\u001b[0m \u001b[1;33m\u001b[0m\u001b[0m\n\u001b[0;32m      4\u001b[0m \u001b[0mx\u001b[0m\u001b[1;33m=\u001b[0m\u001b[1;34m'hello'\u001b[0m\u001b[1;33m\u001b[0m\u001b[0m\n\u001b[1;32m----> 5\u001b[1;33m \u001b[0mchange_it\u001b[0m\u001b[1;33m(\u001b[0m\u001b[0mx\u001b[0m\u001b[1;33m)\u001b[0m\u001b[1;33m\u001b[0m\u001b[0m\n\u001b[0m\u001b[0;32m      6\u001b[0m \u001b[0mprint\u001b[0m\u001b[1;33m(\u001b[0m\u001b[0mx\u001b[0m\u001b[1;33m)\u001b[0m\u001b[1;33m\u001b[0m\u001b[0m\n",
      "\u001b[1;32m<ipython-input-64-e9b25dc813f7>\u001b[0m in \u001b[0;36mchange_it\u001b[1;34m(a)\u001b[0m\n\u001b[0;32m      1\u001b[0m \u001b[1;32mdef\u001b[0m \u001b[0mchange_it\u001b[0m\u001b[1;33m(\u001b[0m\u001b[0ma\u001b[0m\u001b[1;33m)\u001b[0m\u001b[1;33m:\u001b[0m\u001b[1;33m\u001b[0m\u001b[0m\n\u001b[1;32m----> 2\u001b[1;33m     \u001b[0ma\u001b[0m\u001b[1;33m[\u001b[0m\u001b[1;36m0\u001b[0m\u001b[1;33m]\u001b[0m\u001b[1;33m=\u001b[0m\u001b[1;34m'H'\u001b[0m\u001b[1;33m\u001b[0m\u001b[0m\n\u001b[0m\u001b[0;32m      3\u001b[0m \u001b[1;33m\u001b[0m\u001b[0m\n\u001b[0;32m      4\u001b[0m \u001b[0mx\u001b[0m\u001b[1;33m=\u001b[0m\u001b[1;34m'hello'\u001b[0m\u001b[1;33m\u001b[0m\u001b[0m\n\u001b[0;32m      5\u001b[0m \u001b[0mchange_it\u001b[0m\u001b[1;33m(\u001b[0m\u001b[0mx\u001b[0m\u001b[1;33m)\u001b[0m\u001b[1;33m\u001b[0m\u001b[0m\n",
      "\u001b[1;31mTypeError\u001b[0m: 'str' object does not support item assignment"
     ]
    }
   ],
   "source": [
    "def change_it(a):\n",
    "    a[0]='H'\n",
    "   \n",
    "x='hello'\n",
    "change_it(x)\n",
    "print(x)"
   ]
  },
  {
   "cell_type": "code",
   "execution_count": 65,
   "metadata": {},
   "outputs": [
    {
     "name": "stdout",
     "output_type": "stream",
     "text": [
      "hi,world\n"
     ]
    }
   ],
   "source": [
    "def hello(greeting,name):\n",
    "    print('{},{}'.format(greeting,name))\n",
    "hello('hi','world')"
   ]
  },
  {
   "cell_type": "code",
   "execution_count": 67,
   "metadata": {},
   "outputs": [
    {
     "name": "stdout",
     "output_type": "stream",
     "text": [
      "hi,world\n",
      "hi,world\n"
     ]
    }
   ],
   "source": [
    "hello(greeting='hi',name='world')\n",
    "hello(name='world',greeting='hi')"
   ]
  },
  {
   "cell_type": "code",
   "execution_count": 70,
   "metadata": {},
   "outputs": [
    {
     "name": "stdout",
     "output_type": "stream",
     "text": [
      "hello,world\n",
      "hi,world\n",
      "hi,yg\n",
      "hello,yg\n"
     ]
    }
   ],
   "source": [
    "def hello(greeting='hello',name='world'):\n",
    "    print('{},{}'.format(greeting,name))\n",
    "    \n",
    "hello()\n",
    "hello('hi')\n",
    "hello('hi','yg')\n",
    "hello(name='yg')"
   ]
  },
  {
   "cell_type": "code",
   "execution_count": 72,
   "metadata": {},
   "outputs": [
    {
     "name": "stdout",
     "output_type": "stream",
     "text": [
      "[0, 1, 2, 3, 4, 5, 6, 7]\n",
      "[2, 3, 4, 5, 6, 7]\n",
      "[2, 4, 6]\n"
     ]
    }
   ],
   "source": [
    "def interval(start,end=None,step=1):\n",
    "    if end is None:\n",
    "        start,end=0,start\n",
    "    result=[]\n",
    "    i=start\n",
    "    while i<end:\n",
    "        result.append(i)\n",
    "        i+=step\n",
    "    return result\n",
    "\n",
    "print(interval(8))\n",
    "print(interval(2,8))\n",
    "print(interval(2,8,2))"
   ]
  },
  {
   "cell_type": "code",
   "execution_count": 74,
   "metadata": {},
   "outputs": [
    {
     "name": "stdout",
     "output_type": "stream",
     "text": [
      "Test OK!\n"
     ]
    }
   ],
   "source": [
    "def sum(*params):\n",
    "    result=0\n",
    "    for item in params:\n",
    "        result +=item\n",
    "    return result\n",
    "\n",
    "assert(sum(1,2,3,4)==10)\n",
    "print('Test OK!')"
   ]
  },
  {
   "cell_type": "code",
   "execution_count": 81,
   "metadata": {},
   "outputs": [
    {
     "name": "stdout",
     "output_type": "stream",
     "text": [
      "和 10\n"
     ]
    }
   ],
   "source": [
    "def print_sum(*params,label='sum'):\n",
    "    result=0\n",
    "    for item in params:\n",
    "        result +=item\n",
    "        \n",
    "    print(label,result)\n",
    "print_sum(1,2,3,4,label='和')"
   ]
  },
  {
   "cell_type": "code",
   "execution_count": 82,
   "metadata": {},
   "outputs": [
    {
     "data": {
      "text/plain": [
       "15"
      ]
     },
     "execution_count": 82,
     "metadata": {},
     "output_type": "execute_result"
    }
   ],
   "source": [
    "x=[1,2,3,4,5]\n",
    "sum(*x)"
   ]
  },
  {
   "cell_type": "code",
   "execution_count": 83,
   "metadata": {},
   "outputs": [
    {
     "data": {
      "text/plain": [
       "{'__name__': '__main__',\n",
       " '__doc__': 'Automatically created module for IPython interactive environment',\n",
       " '__package__': None,\n",
       " '__loader__': None,\n",
       " '__spec__': None,\n",
       " '__builtin__': <module 'builtins' (built-in)>,\n",
       " '__builtins__': <module 'builtins' (built-in)>,\n",
       " '_ih': ['',\n",
       "  \"names=['a','b','c','d']\\nages=[10,20,30,40]\\nfor i in range(len(names)):\\n    print(names[i],ages[i])\",\n",
       "  \"names=['a','b','c','d']\\nages=[10,20,30,40]\\nfor name,age in zip(names.ages):\\n    print(name,age)\",\n",
       "  \"names=['a','b','c','d']\\nages=[10,20,30,40]\\nfor name,age in zip(names,ages):\\n    print(name,age)\",\n",
       "  'a=list(zip(names,ages))\\na',\n",
       "  \"names=['a','b','c','d']\\nfor i in range(len(names)):\\n    print(i+1,names[i])\\n    \\ni=1\\nfor name in names:\\n    print(i,name)\\n    i+=1\",\n",
       "  \"names=['a','b','c','d']\\nfor i,name in enumerate(names):\\n    print(i,name)\",\n",
       "  'a=list(enumerate(names))\\na',\n",
       "  'a=list(range(0,10))\\nb=list()\\nfor item in a:\\n    b.append(item*item)\\nprint(a)\\nprint(b)',\n",
       "  'b=[item*item for item in range(0,10)]\\nb',\n",
       "  'a=[item for item in range(0,100)if item%3==0]\\nprint(a)',\n",
       "  'a=[item*2 for item in range(0,100)if item%3==0]\\nprint(a)',\n",
       "  'a=[item for item in range(0,100)if item%3==0]\\nprint(a)',\n",
       "  'coordinates=[]\\nfor x in range(0,10):\\n    for y in range(0,10):\\n        coordinates.append((x,y))\\n    print(coordinates)',\n",
       "  'coordinates=[(x,y) for x in range(0,10)for y in range(0,10)]\\nprint(coordinates)',\n",
       "  'coordinates=[]\\nfor x in range(0,10):\\n    for y in range(0,10):\\n        coordinates.append((x,y))\\nprint(coordinates)',\n",
       "  \"girls=['alice','bernice','clarice']\\nboys=['chris','arnold','bob']\\n[boy+'+'+girl for boy in boys for girl in girls if boy[0]==girl[0]]\\nprint(result)\",\n",
       "  \"girls=['alice','bernice','clarice']\\nboys=['chris','arnold','bob']\\nresult=[boy+'+'+girl for boy in boys for girl in girls if boy[0]==girl[0]]\\nprint(result)\",\n",
       "  'squares={i:i**2 for i in range(0,10)}\\nprint(squares)',\n",
       "  'squares[5]',\n",
       "  'a=[1,2,3]\\nb=a\\nb is a',\n",
       "  'a=None\\nb',\n",
       "  'x=1\\ndel x\\nx',\n",
       "  'a=[1,2,3]\\nb=a\\ndel a\\nb',\n",
       "  \"exec('print'hello word)\",\n",
       "  \"exec('print（hello word)'）\",\n",
       "  \"exec('print（'hello word')'）\",\n",
       "  'exec(\\'print(\"hello word\")\\'）',\n",
       "  'exec(\\'print(\"hello word\")\\')',\n",
       "  \"scope={}\\nexec('y=1',scope)\",\n",
       "  \"get_ipython().run_line_magic('whos', '')\",\n",
       "  \"scope['y']\",\n",
       "  'print(scope)',\n",
       "  'vars()',\n",
       "  \"eval('1+2+3')\",\n",
       "  \"expr=input('please input an expression:')\\nprint(eval(expr))\",\n",
       "  \"expr=input('please input an expression:')\\nprint(eval(expr))\",\n",
       "  \"expr=input('please input an expression:')\\nprint(eval(expr))\",\n",
       "  \"expr=input('please input an expression:')\\nprint(eval(expr))\",\n",
       "  \"expr=input('please input an expression:')\\nprint(eval(expr))\",\n",
       "  \"def hello(name):\\n    print('Hello,'+name+'!')\",\n",
       "  \"hello('yg')\",\n",
       "  'hello',\n",
       "  \"get_ipython().run_line_magic('pinfo', 'hello')\",\n",
       "  'callable(hello)',\n",
       "  \"print(hello('yg'))\",\n",
       "  \"def print_banner(text):\\n    print('*'*40)\\n    print(text.center(38).center(40,'*'))\\n    print('*'*40)\\nprint_banner\",\n",
       "  \"def print_banner(text):\\n    print('*'*40)\\n    print(text.center(38).center(40,'*'))\\n    print('*'*40)\\nprint_banner('hello')\",\n",
       "  \"def print_banner(text,width):\\n    print('*'*width)\\n    print(text.center(width-2).center(width,'*'))\\n    print('*'*width)\\nprint_banner('hello',30)\",\n",
       "  \"def print_banner(text,width):\\n    symbol='#'\\n    print(symbol*width)\\n    print(text.center(width-2).center(width,symbol))\\n    print(symbol*width)\\nprint_banner('hello',30)\",\n",
       "  'fibs=[1,1]\\nfor i in range(0,9):\\n    fibs.append(fibs[-2]+fibs[-1])\\nprint(fibs)',\n",
       "  'fibs=[1,1]\\nfor i in range(0,9):\\n    fibs.append(fibs[-2]+fibs[-1])#fibs(lens(fibs)-1)\\nprint(fibs)',\n",
       "  'print(fibs[5])',\n",
       "  \"def fibs(num):\\n    result=[1,1]\\n    for i in range(num-2):\\n        result.append(result[-2]+result[-1])\\n    return result\\nnum=int(input('How many Fibonacci numbers do you want?'))\\nprint(fibs(num))\",\n",
       "  \"def fib(index):\\n    result=[1,1]\\n    for i in range(num-2):\\n        result.append(result[-2]+result[-1])\\n    return result[-1]\\nnum=int(input('How many steps?'))\\nprint('Total number of different ways:{}'.format(num))\",\n",
       "  \"def fib(index):\\n    result=[1,1]\\n    for i in range(num-2):\\n        result.append(result[-2]+result[-1])\\n    return result[-1]\\nnum=int(input('How many steps?'))\\nprint('Total number of different ways:{}'.format(fib(num))\",\n",
       "  \"def fib(index):\\n    result=[1,1]\\n    for i in range(num-2):\\n        result.append(result[-2]+result[-1])\\n    return result[-1]\\nnum=int(input('How many steps?'))\\nprint('Total number of different ways:{}'.format(fib(num))\",\n",
       "  \"def fib(index):\\n    result=[1,1]\\n    for i in range(num-2):\\n        result.append(result[-2]+result[-1])\\n    return result[-1]\\nnum=int(input('How many steps?'))\\nprint('Total number of different ways:{}'.format(fib(num))\",\n",
       "  \"def fib(index):\\n    result=[1,1]\\n    for i in range(num-2):\\n        result.append(result[-2]+result[-1])\\n    return result[-1]\\nnum=int(input('How many steps?'))\\nprint('Total number of different ways:{}'.format(fib(num)))\",\n",
       "  \"def fib(index):\\n    item_before_last,last_item=1,1\\n    for i in range(num-2):\\n        item_before_last,last_item=last_item,item_before_last+last_item\\n    return last_item\\nnum=int(input('How many steps?'))\\nprint('Total number of different ways:{}'.format(fib(num)))\",\n",
       "  \"def fib(index):\\n    item_before_last,last_item=1,1\\n    for i in range(index-2):\\n        item_before_last,last_item=last_item,item_before_last+last_item\\n    return last_item\\nnum=int(input('How many steps?'))\\nprint('Total number of different ways:{}'.format(fib(num+1)))\",\n",
       "  'setup_ants_positions()\\nwhile not is_bar_empty():\\n    update_bar()\\n    show_bar()\\n    wait()\\n    update_ants_positions()',\n",
       "  'def change_it(a):\\n    a=a*2\\nx=2\\nchange_it(x)\\nprint(x)',\n",
       "  \"def change_it(a):\\n    #a[0]='Hello'\\n    a=['Hello','hi']\\nx=['hello','hi']\\nchange_it(x)\\nprint(x)\",\n",
       "  \"def change_it(a):\\n    a[0]='H'\\n   \\nx='hello'\\nchange_it(x)\\nprint(x)\",\n",
       "  \"def hello(greeting,name):\\n    print('{},{}'.format(greeting,name))\\nhello('hi','world')\",\n",
       "  \"hello(greeting='hi',name='world')\",\n",
       "  \"hello(greeting='hi',name='world')\\nhello(name='world',greeting='hi')\",\n",
       "  \"def hello(greeting='hello',name='world'):\\n    print('{},{}'.format(greeting,name))\\n    \\nhello()\",\n",
       "  \"def hello(greeting='hello',name='world'):\\n    print('{},{}'.format(greeting,name))\\n    \\nhello()\\nhello('hi')\\nhello('hi','yg')\",\n",
       "  \"def hello(greeting='hello',name='world'):\\n    print('{},{}'.format(greeting,name))\\n    \\nhello()\\nhello('hi')\\nhello('hi','yg')\\nhello(name='yg')\",\n",
       "  'def interval(start,end=None,step=1):\\n    if end is None:\\n        start,end=0,start\\n    result=[]\\n    i=start\\n    while i<end:\\n        result.append(i)\\n        i+=step\\n    return result\\n    pass\\ninterval(8)\\ninterval(2,8)\\ninterval(2,8,2)',\n",
       "  'def interval(start,end=None,step=1):\\n    if end is None:\\n        start,end=0,start\\n    result=[]\\n    i=start\\n    while i<end:\\n        result.append(i)\\n        i+=step\\n    return result\\n\\nprint(interval(8))\\nprint(interval(2,8))\\nprint(interval(2,8,2))',\n",
       "  'def sum(*params):\\n    result=0\\n    for item in params:\\n        result +=item\\n    return result\\nassert(sum(1,2,3,4)==10)',\n",
       "  \"def sum(*params):\\n    result=0\\n    for item in params:\\n        result +=item\\n    return result\\n\\nassert(sum(1,2,3,4)==10)\\nprint('Test OK!')\",\n",
       "  'def print_sum(*params):\\n    result=0\\n    for item in params:\\n        result +=item\\n    print(result)\\nprint_sum(1,2,3,4)',\n",
       "  'def print_sum(*params):\\n    result=0\\n    for item in params:\\n        result +=item\\n        print(result)\\nprint_sum(1,2,3,4)',\n",
       "  \"def print_sum(*params):\\n    result=0\\n    for item in params:\\n        result +=item\\n    print(label,result)\\nprint_sum('sum:',1,2,3,4)\",\n",
       "  \"def print_sum(*params):\\n    result=0\\n    for item in params:\\n        result +=item\\n    print(label,result)\\nprint_sum('sum:',1,2,3,4)\",\n",
       "  \"def print_sum(*params,label='sum'):\\n    result=0\\n    for item in params:\\n        result +=item\\n    print(label,result)\\nprint_sum('sum:',1,2,3,4)\",\n",
       "  \"def print_sum(*params,label='sum'):\\n    result=0\\n    for item in params:\\n        result +=item\\n        \\n    print(label,result)\\nprint_sum(1,2,3,4，label='和')\",\n",
       "  \"def print_sum(*params,label='sum'):\\n    result=0\\n    for item in params:\\n        result +=item\\n        \\n    print(label,result)\\nprint_sum(1,2,3,4,label='和')\",\n",
       "  'x=[1,2,3,4,5]\\nsum(*x)',\n",
       "  'vars()'],\n",
       " '_oh': {4: [('a', 10), ('b', 20), ('c', 30), ('d', 40)],\n",
       "  7: [(0, 'a'), (1, 'b'), (2, 'c'), (3, 'd')],\n",
       "  9: [0, 1, 4, 9, 16, 25, 36, 49, 64, 81],\n",
       "  19: 25,\n",
       "  20: True,\n",
       "  21: [1, 2, 3],\n",
       "  23: [1, 2, 3],\n",
       "  31: 1,\n",
       "  33: {...},\n",
       "  34: 6,\n",
       "  42: <function __main__.hello(name)>,\n",
       "  44: True,\n",
       "  46: <function __main__.print_banner(text)>,\n",
       "  71: [2, 4, 6],\n",
       "  82: 15},\n",
       " '_dh': ['C:\\\\Users\\\\24357\\\\Desktop'],\n",
       " 'In': ['',\n",
       "  \"names=['a','b','c','d']\\nages=[10,20,30,40]\\nfor i in range(len(names)):\\n    print(names[i],ages[i])\",\n",
       "  \"names=['a','b','c','d']\\nages=[10,20,30,40]\\nfor name,age in zip(names.ages):\\n    print(name,age)\",\n",
       "  \"names=['a','b','c','d']\\nages=[10,20,30,40]\\nfor name,age in zip(names,ages):\\n    print(name,age)\",\n",
       "  'a=list(zip(names,ages))\\na',\n",
       "  \"names=['a','b','c','d']\\nfor i in range(len(names)):\\n    print(i+1,names[i])\\n    \\ni=1\\nfor name in names:\\n    print(i,name)\\n    i+=1\",\n",
       "  \"names=['a','b','c','d']\\nfor i,name in enumerate(names):\\n    print(i,name)\",\n",
       "  'a=list(enumerate(names))\\na',\n",
       "  'a=list(range(0,10))\\nb=list()\\nfor item in a:\\n    b.append(item*item)\\nprint(a)\\nprint(b)',\n",
       "  'b=[item*item for item in range(0,10)]\\nb',\n",
       "  'a=[item for item in range(0,100)if item%3==0]\\nprint(a)',\n",
       "  'a=[item*2 for item in range(0,100)if item%3==0]\\nprint(a)',\n",
       "  'a=[item for item in range(0,100)if item%3==0]\\nprint(a)',\n",
       "  'coordinates=[]\\nfor x in range(0,10):\\n    for y in range(0,10):\\n        coordinates.append((x,y))\\n    print(coordinates)',\n",
       "  'coordinates=[(x,y) for x in range(0,10)for y in range(0,10)]\\nprint(coordinates)',\n",
       "  'coordinates=[]\\nfor x in range(0,10):\\n    for y in range(0,10):\\n        coordinates.append((x,y))\\nprint(coordinates)',\n",
       "  \"girls=['alice','bernice','clarice']\\nboys=['chris','arnold','bob']\\n[boy+'+'+girl for boy in boys for girl in girls if boy[0]==girl[0]]\\nprint(result)\",\n",
       "  \"girls=['alice','bernice','clarice']\\nboys=['chris','arnold','bob']\\nresult=[boy+'+'+girl for boy in boys for girl in girls if boy[0]==girl[0]]\\nprint(result)\",\n",
       "  'squares={i:i**2 for i in range(0,10)}\\nprint(squares)',\n",
       "  'squares[5]',\n",
       "  'a=[1,2,3]\\nb=a\\nb is a',\n",
       "  'a=None\\nb',\n",
       "  'x=1\\ndel x\\nx',\n",
       "  'a=[1,2,3]\\nb=a\\ndel a\\nb',\n",
       "  \"exec('print'hello word)\",\n",
       "  \"exec('print（hello word)'）\",\n",
       "  \"exec('print（'hello word')'）\",\n",
       "  'exec(\\'print(\"hello word\")\\'）',\n",
       "  'exec(\\'print(\"hello word\")\\')',\n",
       "  \"scope={}\\nexec('y=1',scope)\",\n",
       "  \"get_ipython().run_line_magic('whos', '')\",\n",
       "  \"scope['y']\",\n",
       "  'print(scope)',\n",
       "  'vars()',\n",
       "  \"eval('1+2+3')\",\n",
       "  \"expr=input('please input an expression:')\\nprint(eval(expr))\",\n",
       "  \"expr=input('please input an expression:')\\nprint(eval(expr))\",\n",
       "  \"expr=input('please input an expression:')\\nprint(eval(expr))\",\n",
       "  \"expr=input('please input an expression:')\\nprint(eval(expr))\",\n",
       "  \"expr=input('please input an expression:')\\nprint(eval(expr))\",\n",
       "  \"def hello(name):\\n    print('Hello,'+name+'!')\",\n",
       "  \"hello('yg')\",\n",
       "  'hello',\n",
       "  \"get_ipython().run_line_magic('pinfo', 'hello')\",\n",
       "  'callable(hello)',\n",
       "  \"print(hello('yg'))\",\n",
       "  \"def print_banner(text):\\n    print('*'*40)\\n    print(text.center(38).center(40,'*'))\\n    print('*'*40)\\nprint_banner\",\n",
       "  \"def print_banner(text):\\n    print('*'*40)\\n    print(text.center(38).center(40,'*'))\\n    print('*'*40)\\nprint_banner('hello')\",\n",
       "  \"def print_banner(text,width):\\n    print('*'*width)\\n    print(text.center(width-2).center(width,'*'))\\n    print('*'*width)\\nprint_banner('hello',30)\",\n",
       "  \"def print_banner(text,width):\\n    symbol='#'\\n    print(symbol*width)\\n    print(text.center(width-2).center(width,symbol))\\n    print(symbol*width)\\nprint_banner('hello',30)\",\n",
       "  'fibs=[1,1]\\nfor i in range(0,9):\\n    fibs.append(fibs[-2]+fibs[-1])\\nprint(fibs)',\n",
       "  'fibs=[1,1]\\nfor i in range(0,9):\\n    fibs.append(fibs[-2]+fibs[-1])#fibs(lens(fibs)-1)\\nprint(fibs)',\n",
       "  'print(fibs[5])',\n",
       "  \"def fibs(num):\\n    result=[1,1]\\n    for i in range(num-2):\\n        result.append(result[-2]+result[-1])\\n    return result\\nnum=int(input('How many Fibonacci numbers do you want?'))\\nprint(fibs(num))\",\n",
       "  \"def fib(index):\\n    result=[1,1]\\n    for i in range(num-2):\\n        result.append(result[-2]+result[-1])\\n    return result[-1]\\nnum=int(input('How many steps?'))\\nprint('Total number of different ways:{}'.format(num))\",\n",
       "  \"def fib(index):\\n    result=[1,1]\\n    for i in range(num-2):\\n        result.append(result[-2]+result[-1])\\n    return result[-1]\\nnum=int(input('How many steps?'))\\nprint('Total number of different ways:{}'.format(fib(num))\",\n",
       "  \"def fib(index):\\n    result=[1,1]\\n    for i in range(num-2):\\n        result.append(result[-2]+result[-1])\\n    return result[-1]\\nnum=int(input('How many steps?'))\\nprint('Total number of different ways:{}'.format(fib(num))\",\n",
       "  \"def fib(index):\\n    result=[1,1]\\n    for i in range(num-2):\\n        result.append(result[-2]+result[-1])\\n    return result[-1]\\nnum=int(input('How many steps?'))\\nprint('Total number of different ways:{}'.format(fib(num))\",\n",
       "  \"def fib(index):\\n    result=[1,1]\\n    for i in range(num-2):\\n        result.append(result[-2]+result[-1])\\n    return result[-1]\\nnum=int(input('How many steps?'))\\nprint('Total number of different ways:{}'.format(fib(num)))\",\n",
       "  \"def fib(index):\\n    item_before_last,last_item=1,1\\n    for i in range(num-2):\\n        item_before_last,last_item=last_item,item_before_last+last_item\\n    return last_item\\nnum=int(input('How many steps?'))\\nprint('Total number of different ways:{}'.format(fib(num)))\",\n",
       "  \"def fib(index):\\n    item_before_last,last_item=1,1\\n    for i in range(index-2):\\n        item_before_last,last_item=last_item,item_before_last+last_item\\n    return last_item\\nnum=int(input('How many steps?'))\\nprint('Total number of different ways:{}'.format(fib(num+1)))\",\n",
       "  'setup_ants_positions()\\nwhile not is_bar_empty():\\n    update_bar()\\n    show_bar()\\n    wait()\\n    update_ants_positions()',\n",
       "  'def change_it(a):\\n    a=a*2\\nx=2\\nchange_it(x)\\nprint(x)',\n",
       "  \"def change_it(a):\\n    #a[0]='Hello'\\n    a=['Hello','hi']\\nx=['hello','hi']\\nchange_it(x)\\nprint(x)\",\n",
       "  \"def change_it(a):\\n    a[0]='H'\\n   \\nx='hello'\\nchange_it(x)\\nprint(x)\",\n",
       "  \"def hello(greeting,name):\\n    print('{},{}'.format(greeting,name))\\nhello('hi','world')\",\n",
       "  \"hello(greeting='hi',name='world')\",\n",
       "  \"hello(greeting='hi',name='world')\\nhello(name='world',greeting='hi')\",\n",
       "  \"def hello(greeting='hello',name='world'):\\n    print('{},{}'.format(greeting,name))\\n    \\nhello()\",\n",
       "  \"def hello(greeting='hello',name='world'):\\n    print('{},{}'.format(greeting,name))\\n    \\nhello()\\nhello('hi')\\nhello('hi','yg')\",\n",
       "  \"def hello(greeting='hello',name='world'):\\n    print('{},{}'.format(greeting,name))\\n    \\nhello()\\nhello('hi')\\nhello('hi','yg')\\nhello(name='yg')\",\n",
       "  'def interval(start,end=None,step=1):\\n    if end is None:\\n        start,end=0,start\\n    result=[]\\n    i=start\\n    while i<end:\\n        result.append(i)\\n        i+=step\\n    return result\\n    pass\\ninterval(8)\\ninterval(2,8)\\ninterval(2,8,2)',\n",
       "  'def interval(start,end=None,step=1):\\n    if end is None:\\n        start,end=0,start\\n    result=[]\\n    i=start\\n    while i<end:\\n        result.append(i)\\n        i+=step\\n    return result\\n\\nprint(interval(8))\\nprint(interval(2,8))\\nprint(interval(2,8,2))',\n",
       "  'def sum(*params):\\n    result=0\\n    for item in params:\\n        result +=item\\n    return result\\nassert(sum(1,2,3,4)==10)',\n",
       "  \"def sum(*params):\\n    result=0\\n    for item in params:\\n        result +=item\\n    return result\\n\\nassert(sum(1,2,3,4)==10)\\nprint('Test OK!')\",\n",
       "  'def print_sum(*params):\\n    result=0\\n    for item in params:\\n        result +=item\\n    print(result)\\nprint_sum(1,2,3,4)',\n",
       "  'def print_sum(*params):\\n    result=0\\n    for item in params:\\n        result +=item\\n        print(result)\\nprint_sum(1,2,3,4)',\n",
       "  \"def print_sum(*params):\\n    result=0\\n    for item in params:\\n        result +=item\\n    print(label,result)\\nprint_sum('sum:',1,2,3,4)\",\n",
       "  \"def print_sum(*params):\\n    result=0\\n    for item in params:\\n        result +=item\\n    print(label,result)\\nprint_sum('sum:',1,2,3,4)\",\n",
       "  \"def print_sum(*params,label='sum'):\\n    result=0\\n    for item in params:\\n        result +=item\\n    print(label,result)\\nprint_sum('sum:',1,2,3,4)\",\n",
       "  \"def print_sum(*params,label='sum'):\\n    result=0\\n    for item in params:\\n        result +=item\\n        \\n    print(label,result)\\nprint_sum(1,2,3,4，label='和')\",\n",
       "  \"def print_sum(*params,label='sum'):\\n    result=0\\n    for item in params:\\n        result +=item\\n        \\n    print(label,result)\\nprint_sum(1,2,3,4,label='和')\",\n",
       "  'x=[1,2,3,4,5]\\nsum(*x)',\n",
       "  'vars()'],\n",
       " 'Out': {4: [('a', 10), ('b', 20), ('c', 30), ('d', 40)],\n",
       "  7: [(0, 'a'), (1, 'b'), (2, 'c'), (3, 'd')],\n",
       "  9: [0, 1, 4, 9, 16, 25, 36, 49, 64, 81],\n",
       "  19: 25,\n",
       "  20: True,\n",
       "  21: [1, 2, 3],\n",
       "  23: [1, 2, 3],\n",
       "  31: 1,\n",
       "  33: {...},\n",
       "  34: 6,\n",
       "  42: <function __main__.hello(name)>,\n",
       "  44: True,\n",
       "  46: <function __main__.print_banner(text)>,\n",
       "  71: [2, 4, 6],\n",
       "  82: 15},\n",
       " 'get_ipython': <bound method InteractiveShell.get_ipython of <ipykernel.zmqshell.ZMQInteractiveShell object at 0x0000020665765860>>,\n",
       " 'exit': <IPython.core.autocall.ZMQExitAutocall at 0x206657940f0>,\n",
       " 'quit': <IPython.core.autocall.ZMQExitAutocall at 0x206657940f0>,\n",
       " '_': 15,\n",
       " '__': [2, 4, 6],\n",
       " '___': <function __main__.print_banner(text)>,\n",
       " '_i': 'x=[1,2,3,4,5]\\nsum(*x)',\n",
       " '_ii': \"def print_sum(*params,label='sum'):\\n    result=0\\n    for item in params:\\n        result +=item\\n        \\n    print(label,result)\\nprint_sum(1,2,3,4,label='和')\",\n",
       " '_iii': \"def print_sum(*params,label='sum'):\\n    result=0\\n    for item in params:\\n        result +=item\\n        \\n    print(label,result)\\nprint_sum(1,2,3,4，label='和')\",\n",
       " '_i1': \"names=['a','b','c','d']\\nages=[10,20,30,40]\\nfor i in range(len(names)):\\n    print(names[i],ages[i])\",\n",
       " 'names': ['a', 'b', 'c', 'd'],\n",
       " 'ages': [10, 20, 30, 40],\n",
       " 'i': 8,\n",
       " '_i2': \"names=['a','b','c','d']\\nages=[10,20,30,40]\\nfor name,age in zip(names.ages):\\n    print(name,age)\",\n",
       " '_i3': \"names=['a','b','c','d']\\nages=[10,20,30,40]\\nfor name,age in zip(names,ages):\\n    print(name,age)\",\n",
       " 'name': 'd',\n",
       " 'age': 40,\n",
       " '_i4': 'a=list(zip(names,ages))\\na',\n",
       " '_4': [('a', 10), ('b', 20), ('c', 30), ('d', 40)],\n",
       " '_i5': \"names=['a','b','c','d']\\nfor i in range(len(names)):\\n    print(i+1,names[i])\\n    \\ni=1\\nfor name in names:\\n    print(i,name)\\n    i+=1\",\n",
       " '_i6': \"names=['a','b','c','d']\\nfor i,name in enumerate(names):\\n    print(i,name)\",\n",
       " '_i7': 'a=list(enumerate(names))\\na',\n",
       " '_7': [(0, 'a'), (1, 'b'), (2, 'c'), (3, 'd')],\n",
       " '_i8': 'a=list(range(0,10))\\nb=list()\\nfor item in a:\\n    b.append(item*item)\\nprint(a)\\nprint(b)',\n",
       " 'b': [1, 2, 3],\n",
       " 'item': 9,\n",
       " '_i9': 'b=[item*item for item in range(0,10)]\\nb',\n",
       " '_9': [0, 1, 4, 9, 16, 25, 36, 49, 64, 81],\n",
       " '_i10': 'a=[item for item in range(0,100)if item%3==0]\\nprint(a)',\n",
       " '_i11': 'a=[item*2 for item in range(0,100)if item%3==0]\\nprint(a)',\n",
       " '_i12': 'a=[item for item in range(0,100)if item%3==0]\\nprint(a)',\n",
       " '_i13': 'coordinates=[]\\nfor x in range(0,10):\\n    for y in range(0,10):\\n        coordinates.append((x,y))\\n    print(coordinates)',\n",
       " 'coordinates': [(0, 0),\n",
       "  (0, 1),\n",
       "  (0, 2),\n",
       "  (0, 3),\n",
       "  (0, 4),\n",
       "  (0, 5),\n",
       "  (0, 6),\n",
       "  (0, 7),\n",
       "  (0, 8),\n",
       "  (0, 9),\n",
       "  (1, 0),\n",
       "  (1, 1),\n",
       "  (1, 2),\n",
       "  (1, 3),\n",
       "  (1, 4),\n",
       "  (1, 5),\n",
       "  (1, 6),\n",
       "  (1, 7),\n",
       "  (1, 8),\n",
       "  (1, 9),\n",
       "  (2, 0),\n",
       "  (2, 1),\n",
       "  (2, 2),\n",
       "  (2, 3),\n",
       "  (2, 4),\n",
       "  (2, 5),\n",
       "  (2, 6),\n",
       "  (2, 7),\n",
       "  (2, 8),\n",
       "  (2, 9),\n",
       "  (3, 0),\n",
       "  (3, 1),\n",
       "  (3, 2),\n",
       "  (3, 3),\n",
       "  (3, 4),\n",
       "  (3, 5),\n",
       "  (3, 6),\n",
       "  (3, 7),\n",
       "  (3, 8),\n",
       "  (3, 9),\n",
       "  (4, 0),\n",
       "  (4, 1),\n",
       "  (4, 2),\n",
       "  (4, 3),\n",
       "  (4, 4),\n",
       "  (4, 5),\n",
       "  (4, 6),\n",
       "  (4, 7),\n",
       "  (4, 8),\n",
       "  (4, 9),\n",
       "  (5, 0),\n",
       "  (5, 1),\n",
       "  (5, 2),\n",
       "  (5, 3),\n",
       "  (5, 4),\n",
       "  (5, 5),\n",
       "  (5, 6),\n",
       "  (5, 7),\n",
       "  (5, 8),\n",
       "  (5, 9),\n",
       "  (6, 0),\n",
       "  (6, 1),\n",
       "  (6, 2),\n",
       "  (6, 3),\n",
       "  (6, 4),\n",
       "  (6, 5),\n",
       "  (6, 6),\n",
       "  (6, 7),\n",
       "  (6, 8),\n",
       "  (6, 9),\n",
       "  (7, 0),\n",
       "  (7, 1),\n",
       "  (7, 2),\n",
       "  (7, 3),\n",
       "  (7, 4),\n",
       "  (7, 5),\n",
       "  (7, 6),\n",
       "  (7, 7),\n",
       "  (7, 8),\n",
       "  (7, 9),\n",
       "  (8, 0),\n",
       "  (8, 1),\n",
       "  (8, 2),\n",
       "  (8, 3),\n",
       "  (8, 4),\n",
       "  (8, 5),\n",
       "  (8, 6),\n",
       "  (8, 7),\n",
       "  (8, 8),\n",
       "  (8, 9),\n",
       "  (9, 0),\n",
       "  (9, 1),\n",
       "  (9, 2),\n",
       "  (9, 3),\n",
       "  (9, 4),\n",
       "  (9, 5),\n",
       "  (9, 6),\n",
       "  (9, 7),\n",
       "  (9, 8),\n",
       "  (9, 9)],\n",
       " 'y': 9,\n",
       " '_i14': 'coordinates=[(x,y) for x in range(0,10)for y in range(0,10)]\\nprint(coordinates)',\n",
       " '_i15': 'coordinates=[]\\nfor x in range(0,10):\\n    for y in range(0,10):\\n        coordinates.append((x,y))\\nprint(coordinates)',\n",
       " '_i16': \"girls=['alice','bernice','clarice']\\nboys=['chris','arnold','bob']\\n[boy+'+'+girl for boy in boys for girl in girls if boy[0]==girl[0]]\\nprint(result)\",\n",
       " 'girls': ['alice', 'bernice', 'clarice'],\n",
       " 'boys': ['chris', 'arnold', 'bob'],\n",
       " '_i17': \"girls=['alice','bernice','clarice']\\nboys=['chris','arnold','bob']\\nresult=[boy+'+'+girl for boy in boys for girl in girls if boy[0]==girl[0]]\\nprint(result)\",\n",
       " 'result': ['chris+clarice', 'arnold+alice', 'bob+bernice'],\n",
       " '_i18': 'squares={i:i**2 for i in range(0,10)}\\nprint(squares)',\n",
       " 'squares': {0: 0, 1: 1, 2: 4, 3: 9, 4: 16, 5: 25, 6: 36, 7: 49, 8: 64, 9: 81},\n",
       " '_i19': 'squares[5]',\n",
       " '_19': 25,\n",
       " '_i20': 'a=[1,2,3]\\nb=a\\nb is a',\n",
       " '_20': True,\n",
       " '_i21': 'a=None\\nb',\n",
       " '_21': [1, 2, 3],\n",
       " '_i22': 'x=1\\ndel x\\nx',\n",
       " '_i23': 'a=[1,2,3]\\nb=a\\ndel a\\nb',\n",
       " '_23': [1, 2, 3],\n",
       " '_i24': \"exec('print'hello word)\",\n",
       " '_i25': \"exec('print（hello word)'）\",\n",
       " '_i26': \"exec('print（'hello word')'）\",\n",
       " '_i27': 'exec(\\'print(\"hello word\")\\'）',\n",
       " '_i28': 'exec(\\'print(\"hello word\")\\')',\n",
       " '_i29': \"scope={}\\nexec('y=1',scope)\",\n",
       " 'scope': {'__builtins__': {'__name__': 'builtins',\n",
       "   '__doc__': \"Built-in functions, exceptions, and other objects.\\n\\nNoteworthy: None is the `nil' object; Ellipsis represents `...' in slices.\",\n",
       "   '__package__': '',\n",
       "   '__loader__': _frozen_importlib.BuiltinImporter,\n",
       "   '__spec__': ModuleSpec(name='builtins', loader=<class '_frozen_importlib.BuiltinImporter'>),\n",
       "   '__build_class__': <function __build_class__>,\n",
       "   '__import__': <function __import__>,\n",
       "   'abs': <function abs(x, /)>,\n",
       "   'all': <function all(iterable, /)>,\n",
       "   'any': <function any(iterable, /)>,\n",
       "   'ascii': <function ascii(obj, /)>,\n",
       "   'bin': <function bin(number, /)>,\n",
       "   'callable': <function callable(obj, /)>,\n",
       "   'chr': <function chr(i, /)>,\n",
       "   'compile': <function compile(source, filename, mode, flags=0, dont_inherit=False, optimize=-1)>,\n",
       "   'delattr': <function delattr(obj, name, /)>,\n",
       "   'dir': <function dir>,\n",
       "   'divmod': <function divmod(x, y, /)>,\n",
       "   'eval': <function eval(source, globals=None, locals=None, /)>,\n",
       "   'exec': <function exec(source, globals=None, locals=None, /)>,\n",
       "   'format': <function format(value, format_spec='', /)>,\n",
       "   'getattr': <function getattr>,\n",
       "   'globals': <function globals()>,\n",
       "   'hasattr': <function hasattr(obj, name, /)>,\n",
       "   'hash': <function hash(obj, /)>,\n",
       "   'hex': <function hex(number, /)>,\n",
       "   'id': <function id(obj, /)>,\n",
       "   'input': <bound method Kernel.raw_input of <ipykernel.ipkernel.IPythonKernel object at 0x0000020665765940>>,\n",
       "   'isinstance': <function isinstance(obj, class_or_tuple, /)>,\n",
       "   'issubclass': <function issubclass(cls, class_or_tuple, /)>,\n",
       "   'iter': <function iter>,\n",
       "   'len': <function len(obj, /)>,\n",
       "   'locals': <function locals()>,\n",
       "   'max': <function max>,\n",
       "   'min': <function min>,\n",
       "   'next': <function next>,\n",
       "   'oct': <function oct(number, /)>,\n",
       "   'ord': <function ord(c, /)>,\n",
       "   'pow': <function pow(x, y, z=None, /)>,\n",
       "   'print': <function print>,\n",
       "   'repr': <function repr(obj, /)>,\n",
       "   'round': <function round>,\n",
       "   'setattr': <function setattr(obj, name, value, /)>,\n",
       "   'sorted': <function sorted(iterable, /, *, key=None, reverse=False)>,\n",
       "   'sum': <function sum(iterable, start=0, /)>,\n",
       "   'vars': <function vars>,\n",
       "   'None': None,\n",
       "   'Ellipsis': Ellipsis,\n",
       "   'NotImplemented': NotImplemented,\n",
       "   'False': False,\n",
       "   'True': True,\n",
       "   'bool': bool,\n",
       "   'memoryview': memoryview,\n",
       "   'bytearray': bytearray,\n",
       "   'bytes': bytes,\n",
       "   'classmethod': classmethod,\n",
       "   'complex': complex,\n",
       "   'dict': dict,\n",
       "   'enumerate': enumerate,\n",
       "   'filter': filter,\n",
       "   'float': float,\n",
       "   'frozenset': frozenset,\n",
       "   'property': property,\n",
       "   'int': int,\n",
       "   'list': list,\n",
       "   'map': map,\n",
       "   'object': object,\n",
       "   'range': range,\n",
       "   'reversed': reversed,\n",
       "   'set': set,\n",
       "   'slice': slice,\n",
       "   'staticmethod': staticmethod,\n",
       "   'str': str,\n",
       "   'super': super,\n",
       "   'tuple': tuple,\n",
       "   'type': type,\n",
       "   'zip': zip,\n",
       "   '__debug__': True,\n",
       "   'BaseException': BaseException,\n",
       "   'Exception': Exception,\n",
       "   'TypeError': TypeError,\n",
       "   'StopAsyncIteration': StopAsyncIteration,\n",
       "   'StopIteration': StopIteration,\n",
       "   'GeneratorExit': GeneratorExit,\n",
       "   'SystemExit': SystemExit,\n",
       "   'KeyboardInterrupt': KeyboardInterrupt,\n",
       "   'ImportError': ImportError,\n",
       "   'ModuleNotFoundError': ModuleNotFoundError,\n",
       "   'OSError': OSError,\n",
       "   'EnvironmentError': OSError,\n",
       "   'IOError': OSError,\n",
       "   'WindowsError': OSError,\n",
       "   'EOFError': EOFError,\n",
       "   'RuntimeError': RuntimeError,\n",
       "   'RecursionError': RecursionError,\n",
       "   'NotImplementedError': NotImplementedError,\n",
       "   'NameError': NameError,\n",
       "   'UnboundLocalError': UnboundLocalError,\n",
       "   'AttributeError': AttributeError,\n",
       "   'SyntaxError': SyntaxError,\n",
       "   'IndentationError': IndentationError,\n",
       "   'TabError': TabError,\n",
       "   'LookupError': LookupError,\n",
       "   'IndexError': IndexError,\n",
       "   'KeyError': KeyError,\n",
       "   'ValueError': ValueError,\n",
       "   'UnicodeError': UnicodeError,\n",
       "   'UnicodeEncodeError': UnicodeEncodeError,\n",
       "   'UnicodeDecodeError': UnicodeDecodeError,\n",
       "   'UnicodeTranslateError': UnicodeTranslateError,\n",
       "   'AssertionError': AssertionError,\n",
       "   'ArithmeticError': ArithmeticError,\n",
       "   'FloatingPointError': FloatingPointError,\n",
       "   'OverflowError': OverflowError,\n",
       "   'ZeroDivisionError': ZeroDivisionError,\n",
       "   'SystemError': SystemError,\n",
       "   'ReferenceError': ReferenceError,\n",
       "   'BufferError': BufferError,\n",
       "   'MemoryError': MemoryError,\n",
       "   'Warning': Warning,\n",
       "   'UserWarning': UserWarning,\n",
       "   'DeprecationWarning': DeprecationWarning,\n",
       "   'PendingDeprecationWarning': PendingDeprecationWarning,\n",
       "   'SyntaxWarning': SyntaxWarning,\n",
       "   'RuntimeWarning': RuntimeWarning,\n",
       "   'FutureWarning': FutureWarning,\n",
       "   'ImportWarning': ImportWarning,\n",
       "   'UnicodeWarning': UnicodeWarning,\n",
       "   'BytesWarning': BytesWarning,\n",
       "   'ResourceWarning': ResourceWarning,\n",
       "   'ConnectionError': ConnectionError,\n",
       "   'BlockingIOError': BlockingIOError,\n",
       "   'BrokenPipeError': BrokenPipeError,\n",
       "   'ChildProcessError': ChildProcessError,\n",
       "   'ConnectionAbortedError': ConnectionAbortedError,\n",
       "   'ConnectionRefusedError': ConnectionRefusedError,\n",
       "   'ConnectionResetError': ConnectionResetError,\n",
       "   'FileExistsError': FileExistsError,\n",
       "   'FileNotFoundError': FileNotFoundError,\n",
       "   'IsADirectoryError': IsADirectoryError,\n",
       "   'NotADirectoryError': NotADirectoryError,\n",
       "   'InterruptedError': InterruptedError,\n",
       "   'PermissionError': PermissionError,\n",
       "   'ProcessLookupError': ProcessLookupError,\n",
       "   'TimeoutError': TimeoutError,\n",
       "   'open': <function io.open(file, mode='r', buffering=-1, encoding=None, errors=None, newline=None, closefd=True, opener=None)>,\n",
       "   'copyright': Copyright (c) 2001-2018 Python Software Foundation.\n",
       "   All Rights Reserved.\n",
       "   \n",
       "   Copyright (c) 2000 BeOpen.com.\n",
       "   All Rights Reserved.\n",
       "   \n",
       "   Copyright (c) 1995-2001 Corporation for National Research Initiatives.\n",
       "   All Rights Reserved.\n",
       "   \n",
       "   Copyright (c) 1991-1995 Stichting Mathematisch Centrum, Amsterdam.\n",
       "   All Rights Reserved.,\n",
       "   'credits':     Thanks to CWI, CNRI, BeOpen.com, Zope Corporation and a cast of thousands\n",
       "       for supporting Python development.  See www.python.org for more information.,\n",
       "   'license': See https://www.python.org/psf/license/,\n",
       "   'help': Type help() for interactive help, or help(object) for help about object.,\n",
       "   '__IPYTHON__': True,\n",
       "   'display': <function IPython.core.display.display(*objs, include=None, exclude=None, metadata=None, transient=None, display_id=None, **kwargs)>,\n",
       "   'get_ipython': <bound method InteractiveShell.get_ipython of <ipykernel.zmqshell.ZMQInteractiveShell object at 0x0000020665765860>>},\n",
       "  'y': 1},\n",
       " '_i30': '%whos',\n",
       " '_i31': \"scope['y']\",\n",
       " '_31': 1,\n",
       " '_i32': 'print(scope)',\n",
       " '_i33': 'vars()',\n",
       " '_33': {...},\n",
       " '_i34': \"eval('1+2+3')\",\n",
       " '_34': 6,\n",
       " '_i35': \"expr=input('please input an expression:')\\nprint(eval(expr))\",\n",
       " 'expr': '4',\n",
       " '_i36': \"expr=input('please input an expression:')\\nprint(eval(expr))\",\n",
       " '_i37': \"expr=input('please input an expression:')\\nprint(eval(expr))\",\n",
       " '_i38': \"expr=input('please input an expression:')\\nprint(eval(expr))\",\n",
       " '_i39': \"expr=input('please input an expression:')\\nprint(eval(expr))\",\n",
       " '_i40': \"def hello(name):\\n    print('Hello,'+name+'!')\",\n",
       " 'hello': <function __main__.hello(greeting='hello', name='world')>,\n",
       " '_i41': \"hello('yg')\",\n",
       " '_i42': 'hello',\n",
       " '_42': <function __main__.hello(name)>,\n",
       " '_i43': 'hello?',\n",
       " '_i44': 'callable(hello)',\n",
       " '_44': True,\n",
       " '_i45': \"print(hello('yg'))\",\n",
       " '_i46': \"def print_banner(text):\\n    print('*'*40)\\n    print(text.center(38).center(40,'*'))\\n    print('*'*40)\\nprint_banner\",\n",
       " 'print_banner': <function __main__.print_banner(text, width)>,\n",
       " '_46': <function __main__.print_banner(text)>,\n",
       " '_i47': \"def print_banner(text):\\n    print('*'*40)\\n    print(text.center(38).center(40,'*'))\\n    print('*'*40)\\nprint_banner('hello')\",\n",
       " '_i48': \"def print_banner(text,width):\\n    print('*'*width)\\n    print(text.center(width-2).center(width,'*'))\\n    print('*'*width)\\nprint_banner('hello',30)\",\n",
       " '_i49': \"def print_banner(text,width):\\n    symbol='#'\\n    print(symbol*width)\\n    print(text.center(width-2).center(width,symbol))\\n    print(symbol*width)\\nprint_banner('hello',30)\",\n",
       " '_i50': 'fibs=[1,1]\\nfor i in range(0,9):\\n    fibs.append(fibs[-2]+fibs[-1])\\nprint(fibs)',\n",
       " 'fibs': <function __main__.fibs(num)>,\n",
       " '_i51': 'fibs=[1,1]\\nfor i in range(0,9):\\n    fibs.append(fibs[-2]+fibs[-1])#fibs(lens(fibs)-1)\\nprint(fibs)',\n",
       " '_i52': 'print(fibs[5])',\n",
       " '_i53': \"def fibs(num):\\n    result=[1,1]\\n    for i in range(num-2):\\n        result.append(result[-2]+result[-1])\\n    return result\\nnum=int(input('How many Fibonacci numbers do you want?'))\\nprint(fibs(num))\",\n",
       " 'num': 6,\n",
       " '_i54': \"def fib(index):\\n    result=[1,1]\\n    for i in range(num-2):\\n        result.append(result[-2]+result[-1])\\n    return result[-1]\\nnum=int(input('How many steps?'))\\nprint('Total number of different ways:{}'.format(num))\",\n",
       " 'fib': <function __main__.fib(index)>,\n",
       " '_i55': \"def fib(index):\\n    result=[1,1]\\n    for i in range(num-2):\\n        result.append(result[-2]+result[-1])\\n    return result[-1]\\nnum=int(input('How many steps?'))\\nprint('Total number of different ways:{}'.format(fib(num))\",\n",
       " '_i56': \"def fib(index):\\n    result=[1,1]\\n    for i in range(num-2):\\n        result.append(result[-2]+result[-1])\\n    return result[-1]\\nnum=int(input('How many steps?'))\\nprint('Total number of different ways:{}'.format(fib(num))\",\n",
       " '_i57': \"def fib(index):\\n    result=[1,1]\\n    for i in range(num-2):\\n        result.append(result[-2]+result[-1])\\n    return result[-1]\\nnum=int(input('How many steps?'))\\nprint('Total number of different ways:{}'.format(fib(num))\",\n",
       " '_i58': \"def fib(index):\\n    result=[1,1]\\n    for i in range(num-2):\\n        result.append(result[-2]+result[-1])\\n    return result[-1]\\nnum=int(input('How many steps?'))\\nprint('Total number of different ways:{}'.format(fib(num)))\",\n",
       " '_i59': \"def fib(index):\\n    item_before_last,last_item=1,1\\n    for i in range(num-2):\\n        item_before_last,last_item=last_item,item_before_last+last_item\\n    return last_item\\nnum=int(input('How many steps?'))\\nprint('Total number of different ways:{}'.format(fib(num)))\",\n",
       " '_i60': \"def fib(index):\\n    item_before_last,last_item=1,1\\n    for i in range(index-2):\\n        item_before_last,last_item=last_item,item_before_last+last_item\\n    return last_item\\nnum=int(input('How many steps?'))\\nprint('Total number of different ways:{}'.format(fib(num+1)))\",\n",
       " '_i61': 'setup_ants_positions()\\nwhile not is_bar_empty():\\n    update_bar()\\n    show_bar()\\n    wait()\\n    update_ants_positions()',\n",
       " '_i62': 'def change_it(a):\\n    a=a*2\\nx=2\\nchange_it(x)\\nprint(x)',\n",
       " 'change_it': <function __main__.change_it(a)>,\n",
       " 'x': [1, 2, 3, 4, 5],\n",
       " '_i63': \"def change_it(a):\\n    #a[0]='Hello'\\n    a=['Hello','hi']\\nx=['hello','hi']\\nchange_it(x)\\nprint(x)\",\n",
       " '_i64': \"def change_it(a):\\n    a[0]='H'\\n   \\nx='hello'\\nchange_it(x)\\nprint(x)\",\n",
       " '_i65': \"def hello(greeting,name):\\n    print('{},{}'.format(greeting,name))\\nhello('hi','world')\",\n",
       " '_i66': \"hello(greeting='hi',name='world')\",\n",
       " '_i67': \"hello(greeting='hi',name='world')\\nhello(name='world',greeting='hi')\",\n",
       " '_i68': \"def hello(greeting='hello',name='world'):\\n    print('{},{}'.format(greeting,name))\\n    \\nhello()\",\n",
       " '_i69': \"def hello(greeting='hello',name='world'):\\n    print('{},{}'.format(greeting,name))\\n    \\nhello()\\nhello('hi')\\nhello('hi','yg')\",\n",
       " '_i70': \"def hello(greeting='hello',name='world'):\\n    print('{},{}'.format(greeting,name))\\n    \\nhello()\\nhello('hi')\\nhello('hi','yg')\\nhello(name='yg')\",\n",
       " '_i71': 'def interval(start,end=None,step=1):\\n    if end is None:\\n        start,end=0,start\\n    result=[]\\n    i=start\\n    while i<end:\\n        result.append(i)\\n        i+=step\\n    return result\\n    pass\\ninterval(8)\\ninterval(2,8)\\ninterval(2,8,2)',\n",
       " 'interval': <function __main__.interval(start, end=None, step=1)>,\n",
       " '_71': [2, 4, 6],\n",
       " '_i72': 'def interval(start,end=None,step=1):\\n    if end is None:\\n        start,end=0,start\\n    result=[]\\n    i=start\\n    while i<end:\\n        result.append(i)\\n        i+=step\\n    return result\\n\\nprint(interval(8))\\nprint(interval(2,8))\\nprint(interval(2,8,2))',\n",
       " '_i73': 'def sum(*params):\\n    result=0\\n    for item in params:\\n        result +=item\\n    return result\\nassert(sum(1,2,3,4)==10)',\n",
       " 'sum': <function __main__.sum(*params)>,\n",
       " '_i74': \"def sum(*params):\\n    result=0\\n    for item in params:\\n        result +=item\\n    return result\\n\\nassert(sum(1,2,3,4)==10)\\nprint('Test OK!')\",\n",
       " '_i75': 'def print_sum(*params):\\n    result=0\\n    for item in params:\\n        result +=item\\n    print(result)\\nprint_sum(1,2,3,4)',\n",
       " 'print_sum': <function __main__.print_sum(*params, label='sum')>,\n",
       " '_i76': 'def print_sum(*params):\\n    result=0\\n    for item in params:\\n        result +=item\\n        print(result)\\nprint_sum(1,2,3,4)',\n",
       " '_i77': \"def print_sum(*params):\\n    result=0\\n    for item in params:\\n        result +=item\\n    print(label,result)\\nprint_sum('sum:',1,2,3,4)\",\n",
       " '_i78': \"def print_sum(*params):\\n    result=0\\n    for item in params:\\n        result +=item\\n    print(label,result)\\nprint_sum('sum:',1,2,3,4)\",\n",
       " '_i79': \"def print_sum(*params,label='sum'):\\n    result=0\\n    for item in params:\\n        result +=item\\n    print(label,result)\\nprint_sum('sum:',1,2,3,4)\",\n",
       " '_i80': \"def print_sum(*params,label='sum'):\\n    result=0\\n    for item in params:\\n        result +=item\\n        \\n    print(label,result)\\nprint_sum(1,2,3,4，label='和')\",\n",
       " '_i81': \"def print_sum(*params,label='sum'):\\n    result=0\\n    for item in params:\\n        result +=item\\n        \\n    print(label,result)\\nprint_sum(1,2,3,4,label='和')\",\n",
       " '_i82': 'x=[1,2,3,4,5]\\nsum(*x)',\n",
       " '_82': 15,\n",
       " '_i83': 'vars()'}"
      ]
     },
     "execution_count": 83,
     "metadata": {},
     "output_type": "execute_result"
    }
   ],
   "source": [
    "vars()"
   ]
  },
  {
   "cell_type": "code",
   "execution_count": 84,
   "metadata": {},
   "outputs": [
    {
     "name": "stdout",
     "output_type": "stream",
     "text": [
      "1\n"
     ]
    }
   ],
   "source": [
    "def foo():x=42#局部\n",
    "    \n",
    "x=1#全局\n",
    "foo()\n",
    "print(x)"
   ]
  },
  {
   "cell_type": "code",
   "execution_count": 85,
   "metadata": {},
   "outputs": [
    {
     "data": {
      "text/plain": [
       "<function __main__.foo()>"
      ]
     },
     "execution_count": 85,
     "metadata": {},
     "output_type": "execute_result"
    }
   ],
   "source": [
    "scope=vars()\n",
    "scope['foo']"
   ]
  },
  {
   "cell_type": "code",
   "execution_count": 91,
   "metadata": {},
   "outputs": [
    {
     "name": "stdout",
     "output_type": "stream",
     "text": [
      "1\n"
     ]
    }
   ],
   "source": [
    "def foo():\n",
    "    x=2\n",
    "    print(globals()['x'])\n",
    "    \n",
    "x=1\n",
    "foo()"
   ]
  },
  {
   "cell_type": "code",
   "execution_count": 95,
   "metadata": {},
   "outputs": [
    {
     "data": {
      "text/plain": [
       "2"
      ]
     },
     "execution_count": 95,
     "metadata": {},
     "output_type": "execute_result"
    }
   ],
   "source": [
    "def change_globals():\n",
    "    global x\n",
    "    x+=1    \n",
    "x=1\n",
    "change_globals()\n",
    "x"
   ]
  },
  {
   "cell_type": "code",
   "execution_count": 97,
   "metadata": {},
   "outputs": [
    {
     "name": "stdout",
     "output_type": "stream",
     "text": [
      "10\n",
      "18\n"
     ]
    },
    {
     "data": {
      "text/plain": [
       "18"
      ]
     },
     "execution_count": 97,
     "metadata": {},
     "output_type": "execute_result"
    }
   ],
   "source": [
    "def multiplier(factor):\n",
    "    def multiplierByFactor(number):\n",
    "        return number*factor\n",
    "    return multiplierByFactor\n",
    "double=multiplier(2)\n",
    "print(double(5))\n",
    "triple=multiplier(3)\n",
    "print(triple(6))\n",
    "multiplier(3)(6)"
   ]
  },
  {
   "cell_type": "code",
   "execution_count": null,
   "metadata": {},
   "outputs": [],
   "source": []
  }
 ],
 "metadata": {
  "kernelspec": {
   "display_name": "Python 3",
   "language": "python",
   "name": "python3"
  },
  "language_info": {
   "codemirror_mode": {
    "name": "ipython",
    "version": 3
   },
   "file_extension": ".py",
   "mimetype": "text/x-python",
   "name": "python",
   "nbconvert_exporter": "python",
   "pygments_lexer": "ipython3",
   "version": "3.6.5"
  }
 },
 "nbformat": 4,
 "nbformat_minor": 2
}
